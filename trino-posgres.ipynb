{
 "cells": [
  {
   "cell_type": "markdown",
   "id": "41aaea8f",
   "metadata": {},
   "source": [
    "# Query Kafka Streams with Trino and INsert Data into Posgres"
   ]
  },
  {
   "cell_type": "code",
   "execution_count": 18,
   "id": "fbd17932",
   "metadata": {},
   "outputs": [
    {
     "name": "stdout",
     "output_type": "stream",
     "text": [
      "The sql extension is already loaded. To reload it, use:\n",
      "  %reload_ext sql\n",
      " * trino://admin@localhost:8080/default\n",
      "Done.\n",
      " * trino://admin@localhost:8080/default\n",
      "Done.\n",
      " * trino://admin@localhost:8080/default\n",
      "Done.\n"
     ]
    },
    {
     "data": {
      "text/html": [
       "<table>\n",
       "    <thead>\n",
       "        <tr>\n",
       "            <th>Table</th>\n",
       "        </tr>\n",
       "    </thead>\n",
       "    <tbody>\n",
       "        <tr>\n",
       "            <td>fake_social_media</td>\n",
       "        </tr>\n",
       "    </tbody>\n",
       "</table>"
      ],
      "text/plain": [
       "[('fake_social_media',)]"
      ]
     },
     "execution_count": 18,
     "metadata": {},
     "output_type": "execute_result"
    }
   ],
   "source": [
    "%load_ext sql\n",
    "%sql trino://admin@localhost:8080/default\n",
    "%sql SHOW CATALOGS\n",
    "%sql USE kafka.demo\n",
    "%sql show tables"
   ]
  },
  {
   "cell_type": "code",
   "execution_count": 23,
   "id": "6519347e",
   "metadata": {},
   "outputs": [
    {
     "name": "stdout",
     "output_type": "stream",
     "text": [
      " * trino://admin@localhost:8080/default\n",
      "Done.\n"
     ]
    },
    {
     "data": {
      "text/html": [
       "<table>\n",
       "    <thead>\n",
       "        <tr>\n",
       "            <th>_col0</th>\n",
       "        </tr>\n",
       "    </thead>\n",
       "    <tbody>\n",
       "        <tr>\n",
       "            <td>40</td>\n",
       "        </tr>\n",
       "    </tbody>\n",
       "</table>"
      ],
      "text/plain": [
       "[(40,)]"
      ]
     },
     "execution_count": 23,
     "metadata": {},
     "output_type": "execute_result"
    }
   ],
   "source": [
    "%sql select count(*) from fake_social_media"
   ]
  },
  {
   "cell_type": "markdown",
   "id": "becf65d4",
   "metadata": {},
   "source": [
    "# Create a Table in Posgres"
   ]
  },
  {
   "cell_type": "code",
   "execution_count": 21,
   "id": "eabc9dda",
   "metadata": {},
   "outputs": [
    {
     "name": "stdout",
     "output_type": "stream",
     "text": [
      " * trino://admin@localhost:8080/default\n",
      "Done.\n"
     ]
    },
    {
     "data": {
      "text/plain": [
       "[]"
      ]
     },
     "execution_count": 21,
     "metadata": {},
     "output_type": "execute_result"
    }
   ],
   "source": [
    "%%sql \n",
    "CREATE TABLE postgres.public.social_media (\n",
    "    username VARCHAR,\n",
    "    post_content VARCHAR,\n",
    "    likes INTEGER,\n",
    "    comments INTEGER,\n",
    "    shares INTEGER,\n",
    "    timestamp TIMESTAMP\n",
    ")"
   ]
  },
  {
   "cell_type": "markdown",
   "id": "f3e29d33",
   "metadata": {},
   "source": [
    "# Insert data into Postgres Incrementally based on timestamp"
   ]
  },
  {
   "cell_type": "code",
   "execution_count": 27,
   "id": "5f35e512",
   "metadata": {},
   "outputs": [
    {
     "name": "stdout",
     "output_type": "stream",
     "text": [
      " * trino://admin@localhost:8080/default\n",
      "0 rows affected.\n"
     ]
    },
    {
     "data": {
      "text/html": [
       "<table>\n",
       "    <thead>\n",
       "        <tr>\n",
       "            <th>rows</th>\n",
       "        </tr>\n",
       "    </thead>\n",
       "    <tbody>\n",
       "        <tr>\n",
       "            <td>0</td>\n",
       "        </tr>\n",
       "    </tbody>\n",
       "</table>"
      ],
      "text/plain": [
       "[(0,)]"
      ]
     },
     "execution_count": 27,
     "metadata": {},
     "output_type": "execute_result"
    }
   ],
   "source": [
    "%%sql \n",
    "INSERT INTO postgres.public.social_media\n",
    "SELECT\n",
    "    username,\n",
    "    post_content,\n",
    "    likes,\n",
    "    comments,\n",
    "    shares,\n",
    "    _timestamp\n",
    "FROM\n",
    "    kafka.demo.fake_social_media\n",
    "WHERE\n",
    "    _timestamp > (SELECT COALESCE(MAX(timestamp), TIMESTAMP '1970-01-01 00:00:00') FROM postgres.public.social_media)"
   ]
  }
 ],
 "metadata": {
  "kernelspec": {
   "display_name": "Python 3 (ipykernel)",
   "language": "python",
   "name": "python3"
  },
  "language_info": {
   "codemirror_mode": {
    "name": "ipython",
    "version": 3
   },
   "file_extension": ".py",
   "mimetype": "text/x-python",
   "name": "python",
   "nbconvert_exporter": "python",
   "pygments_lexer": "ipython3",
   "version": "3.11.9"
  }
 },
 "nbformat": 4,
 "nbformat_minor": 5
}
