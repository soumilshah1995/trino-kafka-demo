{
 "cells": [
  {
   "cell_type": "markdown",
   "id": "9f2c8cba",
   "metadata": {},
   "source": [
    "# Query Kafka Streams with Trino "
   ]
  },
  {
   "cell_type": "code",
   "execution_count": 1,
   "id": "d1d18b7a",
   "metadata": {},
   "outputs": [
    {
     "name": "stdout",
     "output_type": "stream",
     "text": [
      " * trino://admin@localhost:8080/default\n",
      "Done.\n"
     ]
    },
    {
     "data": {
      "text/html": [
       "<table>\n",
       "    <thead>\n",
       "        <tr>\n",
       "            <th>Catalog</th>\n",
       "        </tr>\n",
       "    </thead>\n",
       "    <tbody>\n",
       "        <tr>\n",
       "            <td>kafka</td>\n",
       "        </tr>\n",
       "        <tr>\n",
       "            <td>postgres</td>\n",
       "        </tr>\n",
       "        <tr>\n",
       "            <td>system</td>\n",
       "        </tr>\n",
       "    </tbody>\n",
       "</table>"
      ],
      "text/plain": [
       "[('kafka',), ('postgres',), ('system',)]"
      ]
     },
     "execution_count": 1,
     "metadata": {},
     "output_type": "execute_result"
    }
   ],
   "source": [
    "%load_ext sql\n",
    "%sql trino://admin@localhost:8080/default\n",
    "%sql SHOW CATALOGS\n"
   ]
  },
  {
   "cell_type": "code",
   "execution_count": 5,
   "id": "ba59e6fb",
   "metadata": {},
   "outputs": [
    {
     "name": "stdout",
     "output_type": "stream",
     "text": [
      " * trino://admin@localhost:8080/default\n",
      "Done.\n"
     ]
    },
    {
     "data": {
      "text/plain": [
       "[]"
      ]
     },
     "execution_count": 5,
     "metadata": {},
     "output_type": "execute_result"
    }
   ],
   "source": [
    "%sql USE kafka.demo"
   ]
  },
  {
   "cell_type": "code",
   "execution_count": 6,
   "id": "740006a6",
   "metadata": {},
   "outputs": [
    {
     "name": "stdout",
     "output_type": "stream",
     "text": [
      " * trino://admin@localhost:8080/default\n",
      "Done.\n"
     ]
    },
    {
     "data": {
      "text/html": [
       "<table>\n",
       "    <thead>\n",
       "        <tr>\n",
       "            <th>Table</th>\n",
       "        </tr>\n",
       "    </thead>\n",
       "    <tbody>\n",
       "        <tr>\n",
       "            <td>fake_social_media</td>\n",
       "        </tr>\n",
       "    </tbody>\n",
       "</table>"
      ],
      "text/plain": [
       "[('fake_social_media',)]"
      ]
     },
     "execution_count": 6,
     "metadata": {},
     "output_type": "execute_result"
    }
   ],
   "source": [
    "%sql show tables"
   ]
  },
  {
   "cell_type": "code",
   "execution_count": 7,
   "id": "23cdedf2",
   "metadata": {},
   "outputs": [
    {
     "name": "stdout",
     "output_type": "stream",
     "text": [
      " * trino://admin@localhost:8080/default\n",
      "Done.\n"
     ]
    },
    {
     "data": {
      "text/html": [
       "<table>\n",
       "    <thead>\n",
       "        <tr>\n",
       "            <th>_col0</th>\n",
       "        </tr>\n",
       "    </thead>\n",
       "    <tbody>\n",
       "        <tr>\n",
       "            <td>20</td>\n",
       "        </tr>\n",
       "    </tbody>\n",
       "</table>"
      ],
      "text/plain": [
       "[(20,)]"
      ]
     },
     "execution_count": 7,
     "metadata": {},
     "output_type": "execute_result"
    }
   ],
   "source": [
    "%sql select count(*) from fake_social_media"
   ]
  },
  {
   "cell_type": "code",
   "execution_count": 8,
   "id": "35cf450a",
   "metadata": {},
   "outputs": [
    {
     "name": "stdout",
     "output_type": "stream",
     "text": [
      " * trino://admin@localhost:8080/default\n",
      "Done.\n"
     ]
    },
    {
     "data": {
      "text/html": [
       "<table>\n",
       "    <thead>\n",
       "        <tr>\n",
       "            <th>username</th>\n",
       "            <th>post_content</th>\n",
       "            <th>likes</th>\n",
       "            <th>comments</th>\n",
       "            <th>shares</th>\n",
       "            <th>timestamp</th>\n",
       "            <th>_partition_id</th>\n",
       "            <th>_partition_offset</th>\n",
       "            <th>_message_corrupt</th>\n",
       "            <th>_message</th>\n",
       "            <th>_headers</th>\n",
       "            <th>_message_length</th>\n",
       "            <th>_key_corrupt</th>\n",
       "            <th>_key</th>\n",
       "            <th>_key_length</th>\n",
       "            <th>_timestamp</th>\n",
       "        </tr>\n",
       "    </thead>\n",
       "    <tbody>\n",
       "        <tr>\n",
       "            <td>tthompson</td>\n",
       "            <td>Around expect sometimes station behavior. Rule thing plant over fund direction. Three today first.</td>\n",
       "            <td>608</td>\n",
       "            <td>23</td>\n",
       "            <td>378</td>\n",
       "            <td>2024-03-16 01:12:57.793000</td>\n",
       "            <td>0</td>\n",
       "            <td>0</td>\n",
       "            <td>False</td>\n",
       "            <td>{&quot;username&quot;: &quot;tthompson&quot;, &quot;post_content&quot;: &quot;Around expect sometimes station behavior. Rule thing plant over fund direction. Three today first.&quot;, &quot;likes&quot;: 608, &quot;comments&quot;: 23, &quot;shares&quot;: 378, &quot;timestamp&quot;: &quot;2024-03-16T01:12:57.793&quot;}</td>\n",
       "            <td>{}</td>\n",
       "            <td>228</td>\n",
       "            <td>False</td>\n",
       "            <td>None</td>\n",
       "            <td>0</td>\n",
       "            <td>2024-04-20 13:31:41.352000</td>\n",
       "        </tr>\n",
       "        <tr>\n",
       "            <td>gberry</td>\n",
       "            <td>Service color everybody let. Stage hard sign boy financial study. Entire smile final.<br>Game heart discuss reflect item. Team help loss.</td>\n",
       "            <td>291</td>\n",
       "            <td>53</td>\n",
       "            <td>247</td>\n",
       "            <td>2024-02-16 18:49:48.178000</td>\n",
       "            <td>0</td>\n",
       "            <td>1</td>\n",
       "            <td>False</td>\n",
       "            <td>{&quot;username&quot;: &quot;gberry&quot;, &quot;post_content&quot;: &quot;Service color everybody let. Stage hard sign boy financial study. Entire smile final.\\nGame heart discuss reflect item. Team help loss.&quot;, &quot;likes&quot;: 291, &quot;comments&quot;: 53, &quot;shares&quot;: 247, &quot;timestamp&quot;: &quot;2024-02-16T18:49:48.178&quot;}</td>\n",
       "            <td>{}</td>\n",
       "            <td>262</td>\n",
       "            <td>False</td>\n",
       "            <td>None</td>\n",
       "            <td>0</td>\n",
       "            <td>2024-04-20 13:31:41.353000</td>\n",
       "        </tr>\n",
       "    </tbody>\n",
       "</table>"
      ],
      "text/plain": [
       "[('tthompson', 'Around expect sometimes station behavior. Rule thing plant over fund direction. Three today first.', 608, 23, 378, datetime.datetime(2024, 3, 16, 1, 12, 57, 793000), 0, 0, False, '{\"username\": \"tthompson\", \"post_content\": \"Around expect sometimes station behavior. Rule thing plant over fund direction. Three today first.\", \"likes\": 608, \"comments\": 23, \"shares\": 378, \"timestamp\": \"2024-03-16T01:12:57.793\"}', {}, 228, False, None, 0, datetime.datetime(2024, 4, 20, 13, 31, 41, 352000)),\n",
       " ('gberry', 'Service color everybody let. Stage hard sign boy financial study. Entire smile final.\\nGame heart discuss reflect item. Team help loss.', 291, 53, 247, datetime.datetime(2024, 2, 16, 18, 49, 48, 178000), 0, 1, False, '{\"username\": \"gberry\", \"post_content\": \"Service color everybody let. Stage hard sign boy financial study. Entire smile final.\\\\nGame heart discuss reflect item. Team help loss.\", \"likes\": 291, \"comments\": 53, \"shares\": 247, \"timestamp\": \"2024-02-16T18:49:48.178\"}', {}, 262, False, None, 0, datetime.datetime(2024, 4, 20, 13, 31, 41, 353000))]"
      ]
     },
     "execution_count": 8,
     "metadata": {},
     "output_type": "execute_result"
    }
   ],
   "source": [
    "%sql select * from fake_social_media limit 2"
   ]
  },
  {
   "cell_type": "code",
   "execution_count": null,
   "id": "fdccdc2f",
   "metadata": {},
   "outputs": [],
   "source": []
  }
 ],
 "metadata": {
  "kernelspec": {
   "display_name": "Python 3 (ipykernel)",
   "language": "python",
   "name": "python3"
  },
  "language_info": {
   "codemirror_mode": {
    "name": "ipython",
    "version": 3
   },
   "file_extension": ".py",
   "mimetype": "text/x-python",
   "name": "python",
   "nbconvert_exporter": "python",
   "pygments_lexer": "ipython3",
   "version": "3.11.9"
  }
 },
 "nbformat": 4,
 "nbformat_minor": 5
}
